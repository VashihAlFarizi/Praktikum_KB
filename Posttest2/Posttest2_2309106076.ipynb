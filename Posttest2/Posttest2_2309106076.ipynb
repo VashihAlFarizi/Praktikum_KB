{
 "cells": [
  {
   "cell_type": "code",
   "execution_count": 1,
   "id": "1460d812-9258-4705-a034-c157407b4eca",
   "metadata": {},
   "outputs": [],
   "source": [
    "import pandas as pd\n",
    "import numpy as np\n",
    "import matplotlib.pyplot as plt\n",
    "import seaborn as sns"
   ]
  },
  {
   "cell_type": "code",
   "execution_count": 2,
   "id": "6bf0616d-fd62-49e3-a4b3-942023ddf8f8",
   "metadata": {},
   "outputs": [
    {
     "data": {
      "text/html": [
       "<div>\n",
       "<style scoped>\n",
       "    .dataframe tbody tr th:only-of-type {\n",
       "        vertical-align: middle;\n",
       "    }\n",
       "\n",
       "    .dataframe tbody tr th {\n",
       "        vertical-align: top;\n",
       "    }\n",
       "\n",
       "    .dataframe thead th {\n",
       "        text-align: right;\n",
       "    }\n",
       "</style>\n",
       "<table border=\"1\" class=\"dataframe\">\n",
       "  <thead>\n",
       "    <tr style=\"text-align: right;\">\n",
       "      <th></th>\n",
       "      <th>square_feet</th>\n",
       "      <th>num_rooms</th>\n",
       "      <th>age</th>\n",
       "      <th>distance_to_city(km)</th>\n",
       "      <th>price</th>\n",
       "    </tr>\n",
       "  </thead>\n",
       "  <tbody>\n",
       "    <tr>\n",
       "      <th>0</th>\n",
       "      <td>2248.357077</td>\n",
       "      <td>3</td>\n",
       "      <td>92</td>\n",
       "      <td>22.997972</td>\n",
       "      <td>200374.090410</td>\n",
       "    </tr>\n",
       "    <tr>\n",
       "      <th>1</th>\n",
       "      <td>1930.867849</td>\n",
       "      <td>2</td>\n",
       "      <td>22</td>\n",
       "      <td>13.984254</td>\n",
       "      <td>268784.847337</td>\n",
       "    </tr>\n",
       "    <tr>\n",
       "      <th>2</th>\n",
       "      <td>2323.844269</td>\n",
       "      <td>6</td>\n",
       "      <td>33</td>\n",
       "      <td>21.500945</td>\n",
       "      <td>315020.857676</td>\n",
       "    </tr>\n",
       "    <tr>\n",
       "      <th>3</th>\n",
       "      <td>2761.514928</td>\n",
       "      <td>3</td>\n",
       "      <td>63</td>\n",
       "      <td>10.343638</td>\n",
       "      <td>355111.468459</td>\n",
       "    </tr>\n",
       "    <tr>\n",
       "      <th>4</th>\n",
       "      <td>1882.923313</td>\n",
       "      <td>7</td>\n",
       "      <td>54</td>\n",
       "      <td>25.485200</td>\n",
       "      <td>234197.123903</td>\n",
       "    </tr>\n",
       "  </tbody>\n",
       "</table>\n",
       "</div>"
      ],
      "text/plain": [
       "   square_feet  num_rooms  age  distance_to_city(km)          price\n",
       "0  2248.357077          3   92             22.997972  200374.090410\n",
       "1  1930.867849          2   22             13.984254  268784.847337\n",
       "2  2323.844269          6   33             21.500945  315020.857676\n",
       "3  2761.514928          3   63             10.343638  355111.468459\n",
       "4  1882.923313          7   54             25.485200  234197.123903"
      ]
     },
     "execution_count": 2,
     "metadata": {},
     "output_type": "execute_result"
    }
   ],
   "source": [
    "df = pd.read_csv(\"house_prices_dataset.csv\")\n",
    "df.head()"
   ]
  },
  {
   "cell_type": "code",
   "execution_count": 4,
   "id": "868f1474-80e9-48ef-894c-d1a700e14d68",
   "metadata": {},
   "outputs": [
    {
     "data": {
      "text/html": [
       "<div>\n",
       "<style scoped>\n",
       "    .dataframe tbody tr th:only-of-type {\n",
       "        vertical-align: middle;\n",
       "    }\n",
       "\n",
       "    .dataframe tbody tr th {\n",
       "        vertical-align: top;\n",
       "    }\n",
       "\n",
       "    .dataframe thead th {\n",
       "        text-align: right;\n",
       "    }\n",
       "</style>\n",
       "<table border=\"1\" class=\"dataframe\">\n",
       "  <thead>\n",
       "    <tr style=\"text-align: right;\">\n",
       "      <th></th>\n",
       "      <th>Mean</th>\n",
       "      <th>Std Dev</th>\n",
       "      <th>Min</th>\n",
       "      <th>Q1</th>\n",
       "      <th>Q2 (Median)</th>\n",
       "      <th>Q3</th>\n",
       "      <th>Max</th>\n",
       "    </tr>\n",
       "  </thead>\n",
       "  <tbody>\n",
       "    <tr>\n",
       "      <th>square_feet</th>\n",
       "      <td>1999.147496</td>\n",
       "      <td>501.021194</td>\n",
       "      <td>500.000000</td>\n",
       "      <td>1663.704735</td>\n",
       "      <td>1998.702512</td>\n",
       "      <td>2335.540444</td>\n",
       "      <td>3963.118853</td>\n",
       "    </tr>\n",
       "    <tr>\n",
       "      <th>num_rooms</th>\n",
       "      <td>4.495100</td>\n",
       "      <td>1.711160</td>\n",
       "      <td>2.000000</td>\n",
       "      <td>3.000000</td>\n",
       "      <td>4.000000</td>\n",
       "      <td>6.000000</td>\n",
       "      <td>7.000000</td>\n",
       "    </tr>\n",
       "    <tr>\n",
       "      <th>age</th>\n",
       "      <td>49.516900</td>\n",
       "      <td>28.992336</td>\n",
       "      <td>0.000000</td>\n",
       "      <td>24.000000</td>\n",
       "      <td>49.000000</td>\n",
       "      <td>75.000000</td>\n",
       "      <td>99.000000</td>\n",
       "    </tr>\n",
       "    <tr>\n",
       "      <th>distance_to_city(km)</th>\n",
       "      <td>15.362148</td>\n",
       "      <td>8.325101</td>\n",
       "      <td>1.000161</td>\n",
       "      <td>8.121636</td>\n",
       "      <td>15.403146</td>\n",
       "      <td>22.447530</td>\n",
       "      <td>29.993892</td>\n",
       "    </tr>\n",
       "    <tr>\n",
       "      <th>price</th>\n",
       "      <td>263011.571609</td>\n",
       "      <td>98336.945117</td>\n",
       "      <td>-95613.138249</td>\n",
       "      <td>196791.510684</td>\n",
       "      <td>262497.361236</td>\n",
       "      <td>330445.581908</td>\n",
       "      <td>660168.255648</td>\n",
       "    </tr>\n",
       "  </tbody>\n",
       "</table>\n",
       "</div>"
      ],
      "text/plain": [
       "                               Mean       Std Dev           Min  \\\n",
       "square_feet             1999.147496    501.021194    500.000000   \n",
       "num_rooms                  4.495100      1.711160      2.000000   \n",
       "age                       49.516900     28.992336      0.000000   \n",
       "distance_to_city(km)      15.362148      8.325101      1.000161   \n",
       "price                 263011.571609  98336.945117 -95613.138249   \n",
       "\n",
       "                                 Q1    Q2 (Median)             Q3  \\\n",
       "square_feet             1663.704735    1998.702512    2335.540444   \n",
       "num_rooms                  3.000000       4.000000       6.000000   \n",
       "age                       24.000000      49.000000      75.000000   \n",
       "distance_to_city(km)       8.121636      15.403146      22.447530   \n",
       "price                 196791.510684  262497.361236  330445.581908   \n",
       "\n",
       "                                Max  \n",
       "square_feet             3963.118853  \n",
       "num_rooms                  7.000000  \n",
       "age                       99.000000  \n",
       "distance_to_city(km)      29.993892  \n",
       "price                 660168.255648  "
      ]
     },
     "execution_count": 4,
     "metadata": {},
     "output_type": "execute_result"
    }
   ],
   "source": [
    "# Tampilkan rata-rata, standar deviasi, min, max, Q1, Q2, Q3 dari atribut bertipe angka\n",
    "\n",
    "numeric_df = df.select_dtypes(include=[np.number])\n",
    "statistik = pd.DataFrame({\n",
    "    'Mean': numeric_df.mean(),\n",
    "    'Std Dev': numeric_df.std(),\n",
    "    'Min': numeric_df.min(),\n",
    "    'Q1': numeric_df.quantile(0.25),\n",
    "    'Q2 (Median)': numeric_df.quantile(0.5),\n",
    "    'Q3': numeric_df.quantile(0.75),\n",
    "    'Max': numeric_df.max()\n",
    "})\n",
    "statistik"
   ]
  },
  {
   "cell_type": "markdown",
   "id": "6e08a0c0-adc3-4fad-8b00-22f7bc8e79e5",
   "metadata": {},
   "source": [
    "### Soal 1\n",
    "Dari hasil statistik deskriptif terlihat bahwa setiap atribut numerik memiliki sebaran nilai yang beragam.\n",
    "Nilai rata-rata dan standar deviasi menunjukkan adanya perbedaan besar antara data rumah dengan harga rendah dan tinggi.\n",
    "Kuartil (Q1–Q3) membantu memahami persebaran data dan mendeteksi kemungkinan adanya nilai ekstrem (outlier)."
   ]
  },
  {
   "cell_type": "code",
   "execution_count": 5,
   "id": "f61a0c20-5a12-48d0-becf-32c66583bc65",
   "metadata": {},
   "outputs": [
    {
     "data": {
      "text/html": [
       "<div>\n",
       "<style scoped>\n",
       "    .dataframe tbody tr th:only-of-type {\n",
       "        vertical-align: middle;\n",
       "    }\n",
       "\n",
       "    .dataframe tbody tr th {\n",
       "        vertical-align: top;\n",
       "    }\n",
       "\n",
       "    .dataframe thead th {\n",
       "        text-align: right;\n",
       "    }\n",
       "</style>\n",
       "<table border=\"1\" class=\"dataframe\">\n",
       "  <thead>\n",
       "    <tr style=\"text-align: right;\">\n",
       "      <th></th>\n",
       "      <th>square_feet</th>\n",
       "      <th>num_rooms</th>\n",
       "      <th>age</th>\n",
       "      <th>distance_to_city(km)</th>\n",
       "      <th>price</th>\n",
       "    </tr>\n",
       "  </thead>\n",
       "  <tbody>\n",
       "    <tr>\n",
       "      <th>0</th>\n",
       "      <td>2248.357077</td>\n",
       "      <td>3</td>\n",
       "      <td>92</td>\n",
       "      <td>22.997972</td>\n",
       "      <td>200374.090410</td>\n",
       "    </tr>\n",
       "    <tr>\n",
       "      <th>1</th>\n",
       "      <td>1930.867849</td>\n",
       "      <td>2</td>\n",
       "      <td>22</td>\n",
       "      <td>13.984254</td>\n",
       "      <td>268784.847337</td>\n",
       "    </tr>\n",
       "    <tr>\n",
       "      <th>2</th>\n",
       "      <td>2323.844269</td>\n",
       "      <td>6</td>\n",
       "      <td>33</td>\n",
       "      <td>21.500945</td>\n",
       "      <td>315020.857676</td>\n",
       "    </tr>\n",
       "    <tr>\n",
       "      <th>3</th>\n",
       "      <td>2761.514928</td>\n",
       "      <td>3</td>\n",
       "      <td>63</td>\n",
       "      <td>10.343638</td>\n",
       "      <td>355111.468459</td>\n",
       "    </tr>\n",
       "    <tr>\n",
       "      <th>4</th>\n",
       "      <td>1882.923313</td>\n",
       "      <td>7</td>\n",
       "      <td>54</td>\n",
       "      <td>25.485200</td>\n",
       "      <td>234197.123903</td>\n",
       "    </tr>\n",
       "    <tr>\n",
       "      <th>5</th>\n",
       "      <td>1882.931522</td>\n",
       "      <td>2</td>\n",
       "      <td>70</td>\n",
       "      <td>16.510014</td>\n",
       "      <td>171397.001685</td>\n",
       "    </tr>\n",
       "    <tr>\n",
       "      <th>6</th>\n",
       "      <td>2789.606408</td>\n",
       "      <td>6</td>\n",
       "      <td>8</td>\n",
       "      <td>28.364627</td>\n",
       "      <td>438704.163041</td>\n",
       "    </tr>\n",
       "    <tr>\n",
       "      <th>7</th>\n",
       "      <td>2383.717365</td>\n",
       "      <td>5</td>\n",
       "      <td>3</td>\n",
       "      <td>3.285625</td>\n",
       "      <td>438745.704315</td>\n",
       "    </tr>\n",
       "    <tr>\n",
       "      <th>8</th>\n",
       "      <td>1765.262807</td>\n",
       "      <td>7</td>\n",
       "      <td>65</td>\n",
       "      <td>15.914028</td>\n",
       "      <td>243125.068444</td>\n",
       "    </tr>\n",
       "    <tr>\n",
       "      <th>9</th>\n",
       "      <td>2271.280022</td>\n",
       "      <td>3</td>\n",
       "      <td>90</td>\n",
       "      <td>23.227202</td>\n",
       "      <td>171466.048061</td>\n",
       "    </tr>\n",
       "  </tbody>\n",
       "</table>\n",
       "</div>"
      ],
      "text/plain": [
       "   square_feet  num_rooms  age  distance_to_city(km)          price\n",
       "0  2248.357077          3   92             22.997972  200374.090410\n",
       "1  1930.867849          2   22             13.984254  268784.847337\n",
       "2  2323.844269          6   33             21.500945  315020.857676\n",
       "3  2761.514928          3   63             10.343638  355111.468459\n",
       "4  1882.923313          7   54             25.485200  234197.123903\n",
       "5  1882.931522          2   70             16.510014  171397.001685\n",
       "6  2789.606408          6    8             28.364627  438704.163041\n",
       "7  2383.717365          5    3              3.285625  438745.704315\n",
       "8  1765.262807          7   65             15.914028  243125.068444\n",
       "9  2271.280022          3   90             23.227202  171466.048061"
      ]
     },
     "execution_count": 5,
     "metadata": {},
     "output_type": "execute_result"
    }
   ],
   "source": [
    "# Tampilkan 10 record pertama dari atribut bertipe angka\n",
    "numeric_df.head(10)"
   ]
  },
  {
   "cell_type": "markdown",
   "id": "90d3a8cb-bb81-496d-af91-3ceca7b5c957",
   "metadata": {},
   "source": [
    "### Soal 2\n",
    "Sepuluh record pertama memperlihatkan contoh nilai dari atribut numerik seperti luas tanah, tahun pembangunan, dan harga.\n",
    "Dari sini kita bisa melihat skala nilai antar kolom dan memastikan tidak ada data kosong atau format yang salah."
   ]
  },
  {
   "cell_type": "code",
   "execution_count": 6,
   "id": "ec661ee7-ff7e-47ee-b6ab-fc2fc5fb900c",
   "metadata": {},
   "outputs": [
    {
     "name": "stdout",
     "output_type": "stream",
     "text": [
      "Jumlah Record: 10000\n",
      "Jumlah Atribut: 5\n",
      "Nama Atribut: ['square_feet', 'num_rooms', 'age', 'distance_to_city(km)', 'price']\n",
      "Jumlah Atribut dengan Tipe Angka: 5\n"
     ]
    }
   ],
   "source": [
    "# Tampilkan informasi jumlah record, jumlah attribute, nama attribute, dan jumlah attribute bertipe angka\n",
    "\n",
    "jumlah_record = df.shape[0]\n",
    "jumlah_atribut = df.shape[1]\n",
    "nama_atribut = list(df.columns)\n",
    "jumlah_atribut_angka = len(numeric_df.columns)\n",
    "\n",
    "print(f\"Jumlah Record: {jumlah_record}\")\n",
    "print(f\"Jumlah Atribut: {jumlah_atribut}\")\n",
    "print(f\"Nama Atribut: {nama_atribut}\")\n",
    "print(f\"Jumlah Atribut dengan Tipe Angka: {jumlah_atribut_angka}\")"
   ]
  },
  {
   "cell_type": "markdown",
   "id": "9702a8f8-73d1-478e-8824-0e4b9b3ec128",
   "metadata": {},
   "source": [
    "### Soal 3\n",
    "Dataset memiliki jumlah record dan atribut yang cukup banyak, menunjukkan data yang lengkap untuk analisis.\n",
    "Terdapat beberapa atribut numerik yang relevan untuk perhitungan statistik, serta beberapa atribut non-numerik untuk analisis kategori."
   ]
  },
  {
   "cell_type": "code",
   "execution_count": 7,
   "id": "4c115a16-a23b-45ba-9238-ba97e6baf6a1",
   "metadata": {},
   "outputs": [],
   "source": [
    "# Tampilkan jumlah label unik dari semua atribut bertipe object\n",
    "\n",
    "object_df = df.select_dtypes(include=['object'])\n",
    "for col in object_df.columns:\n",
    "    print(f\"{col}: {object_df[col].nunique()} label unik\")"
   ]
  },
  {
   "cell_type": "markdown",
   "id": "3f13c426-1530-4797-bf1c-5e35f28f96ca",
   "metadata": {},
   "source": [
    "### Soal 4\n",
    "Setiap atribut bertipe objek memiliki jumlah label unik yang berbeda.\n",
    "Misalnya, kolom seperti *Neighborhood* atau *HouseStyle* menunjukkan variasi kategori yang bisa memengaruhi harga rumah.\n",
    "Semakin banyak label unik, semakin luas keragaman data yang direpresentasikan."
   ]
  },
  {
   "cell_type": "code",
   "execution_count": 10,
   "id": "fe260b8e-4a57-44cc-a294-a4dd1a8fb6f0",
   "metadata": {},
   "outputs": [
    {
     "data": {
      "image/png": "[encoded data removed]",
      "text/plain": [
       "<Figure size 800x500 with 1 Axes>"
      ]
     },
     "metadata": {},
     "output_type": "display_data"
    }
   ],
   "source": [
    "# 8️Visualisasi dataset dengan grafik yang paling sesuai\n",
    "possible_price_cols = ['Price', 'price', 'SalePrice', 'Harga', 'harga', 'median_house_value']\n",
    "price_col = None\n",
    "\n",
    "for col in df.columns:\n",
    "    if col in possible_price_cols:\n",
    "        price_col = col\n",
    "        break\n",
    "\n",
    "if price_col is None:\n",
    "    # Jika tidak ditemukan, tampilkan semua kolom agar kamu tahu pilih yang mana\n",
    "    print(\"❌ Tidak ditemukan kolom harga. Kolom yang tersedia:\")\n",
    "    print(df.columns.tolist())\n",
    "else:\n",
    "    plt.figure(figsize=(8,5))\n",
    "    sns.histplot(df[price_col], bins=30, kde=True)\n",
    "    plt.title(f'Distribusi {price_col}')\n",
    "    plt.xlabel(price_col)\n",
    "    plt.ylabel('Frekuensi')\n",
    "    plt.show()\n"
   ]
  },
  {
   "cell_type": "markdown",
   "id": "052d2bd0-b1b9-46a8-b3a8-aa41bb7e2d34",
   "metadata": {},
   "source": [
    "### Soal 5\n",
    "Grafik histogram menunjukkan bahwa distribusi harga rumah tidak merata (right-skewed).\n",
    "Kebanyakan rumah berada di kisaran harga menengah ke bawah, sedangkan sebagian kecil memiliki harga tinggi.\n",
    "Distribusi seperti ini umum ditemukan dalam data properti."
   ]
  },
  {
   "cell_type": "code",
   "execution_count": 9,
   "id": "595a8f38-5b8e-44ae-b13c-c4d1450600f6",
   "metadata": {},
   "outputs": [
    {
     "data": {
      "image/png": "[encoded data removed]",
      "text/plain": [
       "<Figure size 1000x800 with 2 Axes>"
      ]
     },
     "metadata": {},
     "output_type": "display_data"
    }
   ],
   "source": [
    "# Tampilkan korelasi dataset menggunakan heatmap.\n",
    "\n",
    "plt.figure(figsize=(10,8))\n",
    "corr = numeric_df.corr()\n",
    "sns.heatmap(corr, annot=True, cmap='coolwarm', fmt=\".2f\")\n",
    "plt.title('Heatmap Korelasi antar Atribut Numerik')\n",
    "plt.show()\n"
   ]
  },
  {
   "cell_type": "markdown",
   "id": "81f48f85-2c08-4564-a55c-0ced6d691823",
   "metadata": {},
   "source": [
    "### Soal 6\n",
    "Heatmap memperlihatkan hubungan antar variabel numerik.\n",
    "Atribut seperti *OverallQual*, *GrLivArea*, dan *GarageCars* memiliki korelasi tinggi terhadap harga rumah.\n",
    "Artinya, semakin baik kualitas bangunan dan semakin besar ukuran rumah, maka harga rumah cenderung meningkat."
   ]
  },
  {
   "cell_type": "markdown",
   "id": "5992795f-da70-4064-aeeb-705dcec03fd3",
   "metadata": {},
   "source": [
    "### Kesimpulan\n",
    "Secara keseluruhan, dataset harga rumah memberikan informasi yang kaya tentang faktor-faktor yang memengaruhi nilai properti.\n",
    "Analisis statistik dan visualisasi menunjukkan bahwa harga rumah dipengaruhi oleh kualitas, ukuran, serta kondisi bangunan.\n",
    "Dataset ini sangat cocok digunakan untuk model prediksi seperti regresi linier atau machine learning berbasis harga rumah."
   ]
  }
 ],
 "metadata": {
  "kernelspec": {
   "display_name": "Vashih_posttest2",
   "language": "python",
   "name": "venv_posttest3_2309106076_b2-23"
  },
  "language_info": {
   "codemirror_mode": {
    "name": "ipython",
    "version": 3
   },
   "file_extension": ".py",
   "mimetype": "text/x-python",
   "name": "python",
   "nbconvert_exporter": "python",
   "pygments_lexer": "ipython3",
   "version": "3.10.7"
  }
 },
 "nbformat": 4,
 "nbformat_minor": 5
}
