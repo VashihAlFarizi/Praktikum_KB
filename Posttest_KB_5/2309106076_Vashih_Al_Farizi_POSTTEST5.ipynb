{
  "cells": [
    {
      "cell_type": "code",
      "execution_count": 30,
      "id": "1460d812-9258-4705-a034-c157407b4eca",
      "metadata": {
        "id": "1460d812-9258-4705-a034-c157407b4eca"
      },
      "outputs": [],
      "source": [
        "# Import Library\n",
        "import tensorflow as tf\n",
        "import tensorflow_datasets as tfds\n",
        "from tensorflow.keras import layers, models\n",
        "import matplotlib.pyplot as plt"
      ]
    },
    {
      "cell_type": "markdown",
      "source": [
        "Pada cell awal ini kita mengimpor semua library yang diperlukan:\n",
        "- tensorflow = digunakan untuk membangun dan melatih model deep learning, termasuk arsitektur Convolutional Neural Network (CNN) yang akan digunakan dalam proyek ini.\n",
        "- tensorflow_datasets = digunakan untuk memuat dataset siap pakai seperti Oxford Flowers 102 tanpa perlu mengunduh atau mengekstrak data secara manual. Library ini memudahkan kita dalam menyiapkan data pelatihan dan validasi.\n",
        "- matplotlib.pyplot = berfungsi untuk menampilkan visualisasi hasil pelatihan model, seperti grafik akurasi (accuracy) dan loss (kesalahan) selama proses training."
      ],
      "metadata": {
        "id": "J2lZhmSm5QhC"
      },
      "id": "J2lZhmSm5QhC"
    },
    {
      "cell_type": "code",
      "execution_count": 31,
      "id": "088e8eae-247b-4829-a5e2-78f54ffc5aee",
      "metadata": {
        "colab": {
          "base_uri": "https://localhost:8080/"
        },
        "id": "088e8eae-247b-4829-a5e2-78f54ffc5aee",
        "outputId": "8f063252-191c-4c15-851c-987993757d64"
      },
      "outputs": [
        {
          "output_type": "stream",
          "name": "stdout",
          "text": [
            "Jumlah data train: 1020\n",
            "Jumlah data validasi: 1020\n",
            "Jumlah data test: 6149\n",
            "Jumlah kelas: 102\n"
          ]
        }
      ],
      "source": [
        "# Load Dataset Oxford Flowers 102\n",
        "dataset_name = \"oxford_flowers102\"\n",
        "\n",
        "(ds_train, ds_val, ds_test), ds_info = tfds.load(\n",
        "    dataset_name,\n",
        "    split=[\"train\", \"validation\", \"test\"],\n",
        "    as_supervised=True,  # output: (image, label)\n",
        "    with_info=True\n",
        ")\n",
        "\n",
        "print(\"Jumlah data train:\", ds_info.splits[\"train\"].num_examples)\n",
        "print(\"Jumlah data validasi:\", ds_info.splits[\"validation\"].num_examples)\n",
        "print(\"Jumlah data test:\", ds_info.splits[\"test\"].num_examples)\n",
        "print(\"Jumlah kelas:\", ds_info.features[\"label\"].num_classes)"
      ]
    },
    {
      "cell_type": "markdown",
      "source": [
        "Pada cell ini dilakukan proses pemanggilan dan pemisahan dataset menjadi tiga bagian utama:\n",
        "\n",
        "- Train set (1020 data) = digunakan untuk melatih model agar mengenali pola gambar bunga.\n",
        "- Validation set (1020 data) = digunakan untuk memantau performa model selama proses training, mencegah overfitting.\n",
        "- Test set (6149 data) = digunakan untuk mengevaluasi kinerja akhir model setelah selesai dilatih.\n",
        "\n",
        "Selain itu, variabel ds_info juga memberikan informasi metadata, seperti jumlah kelas (102) dan ukuran setiap subset dataset."
      ],
      "metadata": {
        "id": "TKVdon6V51Z_"
      },
      "id": "TKVdon6V51Z_"
    },
    {
      "cell_type": "code",
      "execution_count": 32,
      "id": "13533140-6ed2-4a50-9383-e57a151085a6",
      "metadata": {
        "id": "13533140-6ed2-4a50-9383-e57a151085a6"
      },
      "outputs": [],
      "source": [
        "# Preprocessing gambar\n",
        "IMG_SIZE = 160\n",
        "BATCH_SIZE = 32\n",
        "\n",
        "def preprocess(image, label):\n",
        "    image = tf.image.resize(image, (IMG_SIZE, IMG_SIZE))\n",
        "    image = tf.cast(image, tf.float32) / 255.0\n",
        "    return image, label\n",
        "\n",
        "train_data = ds_train.map(preprocess).shuffle(1000).batch(BATCH_SIZE).prefetch(tf.data.AUTOTUNE)\n",
        "val_data   = ds_val.map(preprocess).batch(BATCH_SIZE).prefetch(tf.data.AUTOTUNE)\n",
        "test_data  = ds_test.map(preprocess).batch(BATCH_SIZE)"
      ]
    },
    {
      "cell_type": "markdown",
      "source": [
        "Pada cell ini dilakukan tahap preprocessing atau pra-pemrosesan gambar agar data siap digunakan dalam proses pelatihan model.\n",
        "- IMG_SIZE = 160\n",
        "Menentukan ukuran gambar yang akan digunakan oleh model. Semua gambar akan di-resize menjadi 160×160 piksel agar memiliki ukuran yang seragam.\n",
        "- BATCH_SIZE = 32\n",
        "Menentukan jumlah gambar yang diproses dalam satu batch selama training. Nilai ini mempengaruhi kecepatan dan stabilitas pelatihan.\n",
        "\n",
        "Lanjut ke Fungsi yang digunakan untuk mempersiapkan setiap gambar dan label sebelum dimasukkan ke model:\n",
        "- tf.image.resize(image, (IMG_SIZE, IMG_SIZE)) → mengubah ukuran setiap gambar menjadi 160×160 piksel.\n",
        "- tf.cast(image, tf.float32) / 255.0 = mengonversi nilai piksel dari 0–255 menjadi 0–1 agar lebih mudah diproses oleh model.\n",
        "- Fungsi mengembalikan pasangan (image, label) setelah dinormalisasi.\n",
        "ds_train.map(preprocess) = menerapkan fungsi preprocess pada setiap data pelatihan.\n",
        "- shuffle(1000) = mengacak urutan data agar model tidak belajar urutan tertentu.\n",
        "- batch(BATCH_SIZE) = mengelompokkan data menjadi batch berukuran 32.\n",
        "- prefetch(tf.data.AUTOTUNE) = mempercepat input data dengan melakukan prefetching otomatis saat training berlangsung.\n",
        "\n",
        "Proses yang sama juga diterapkan pada data validasi (val_data) dan pengujian (test_data), namun tanpa pengacakan karena data tersebut digunakan hanya untuk evaluasi model."
      ],
      "metadata": {
        "id": "99U4fSHr6KhV"
      },
      "id": "99U4fSHr6KhV"
    },
    {
      "cell_type": "code",
      "source": [
        "# Feature Extractor MobileNetV2\n",
        "base_model = tf.keras.applications.MobileNetV2(\n",
        "    input_shape=(IMG_SIZE, IMG_SIZE, 3),\n",
        "    include_top=False,\n",
        "    weights='imagenet'\n",
        ")\n",
        "base_model.trainable = False  # Freeze layer base"
      ],
      "metadata": {
        "colab": {
          "base_uri": "https://localhost:8080/"
        },
        "id": "FwImeXFdlOJd",
        "outputId": "894bf0e7-958a-4558-9929-9952e368da7b"
      },
      "id": "FwImeXFdlOJd",
      "execution_count": 33,
      "outputs": [
        {
          "output_type": "stream",
          "name": "stdout",
          "text": [
            "Downloading data from https://storage.googleapis.com/tensorflow/keras-applications/mobilenet_v2/mobilenet_v2_weights_tf_dim_ordering_tf_kernels_1.0_160_no_top.h5\n",
            "\u001b[1m9406464/9406464\u001b[0m \u001b[32m━━━━━━━━━━━━━━━━━━━━\u001b[0m\u001b[37m\u001b[0m \u001b[1m1s\u001b[0m 0us/step\n"
          ]
        }
      ]
    },
    {
      "cell_type": "markdown",
      "source": [
        "Pada cell ini kita menggunakan MobileNetV2 sebagai feature extractor atau pengambil fitur utama dari gambar."
      ],
      "metadata": {
        "id": "Wyksro_C29Cn"
      },
      "id": "Wyksro_C29Cn"
    },
    {
      "cell_type": "code",
      "execution_count": 34,
      "id": "f1b4e3e9-9f10-4462-b81f-6ddffd7d509f",
      "metadata": {
        "id": "f1b4e3e9-9f10-4462-b81f-6ddffd7d509f"
      },
      "outputs": [],
      "source": [
        "# Bangun Model Sequential CNN\n",
        "model = models.Sequential([\n",
        "    base_model,\n",
        "    layers.GlobalAveragePooling2D(),\n",
        "    layers.Dropout(0.3),\n",
        "    layers.Dense(256, activation='relu'),\n",
        "    layers.Dropout(0.3),\n",
        "    layers.Dense(ds_info.features['label'].num_classes, activation='softmax')\n",
        "])"
      ]
    },
    {
      "cell_type": "markdown",
      "source": [
        "Pada cell ini kita membangun arsitektur model deep learning menggunakan pendekatan Sequential Model.\n",
        "Model ini disusun secara berurutan (layer demi layer) dari bawah hingga atas.\n",
        "Bagian ini menyusun keseluruhan arsitektur model yang terdiri dari:\n",
        "\n",
        "- Feature extractor (MobileNetV2)\n",
        "- Pooling layer untuk merangkum fitur\n",
        "- Fully connected layer untuk klasifikasi\n",
        "- Output layer dengan aktivasi softmax"
      ],
      "metadata": {
        "id": "a6jgJQI4AOJV"
      },
      "id": "a6jgJQI4AOJV"
    },
    {
      "cell_type": "code",
      "execution_count": 35,
      "id": "b6d3ca34-84f8-4de9-8662-1c78a265d568",
      "metadata": {
        "id": "b6d3ca34-84f8-4de9-8662-1c78a265d568"
      },
      "outputs": [],
      "source": [
        "# Compile Model\n",
        "model.compile(\n",
        "    optimizer=tf.keras.optimizers.Adam(learning_rate=0.0005),\n",
        "    loss='sparse_categorical_crossentropy',\n",
        "    metrics=['accuracy']\n",
        ")"
      ]
    },
    {
      "cell_type": "markdown",
      "source": [
        "Pada cell ini dilakukan proses kompilasi model, yaitu tahap mengonfigurasi cara model akan belajar dari data.\n",
        "Langkah ini penting sebelum proses training dimulai, karena menentukan bagaimana bobot model diperbarui dan bagaimana performanya diukur."
      ],
      "metadata": {
        "id": "YW2qGFrk3bDg"
      },
      "id": "YW2qGFrk3bDg"
    },
    {
      "cell_type": "code",
      "execution_count": 36,
      "id": "f89f7609-bd66-4a2a-9deb-5649935e5faf",
      "metadata": {
        "colab": {
          "base_uri": "https://localhost:8080/"
        },
        "id": "f89f7609-bd66-4a2a-9deb-5649935e5faf",
        "outputId": "a93e2131-6686-48b2-d0e7-e6fa85067ea4"
      },
      "outputs": [
        {
          "output_type": "stream",
          "name": "stdout",
          "text": [
            "Epoch 1/30\n",
            "\u001b[1m32/32\u001b[0m \u001b[32m━━━━━━━━━━━━━━━━━━━━\u001b[0m\u001b[37m\u001b[0m \u001b[1m70s\u001b[0m 2s/step - accuracy: 0.0189 - loss: 5.0113 - val_accuracy: 0.1343 - val_loss: 4.2124\n",
            "Epoch 2/30\n",
            "\u001b[1m32/32\u001b[0m \u001b[32m━━━━━━━━━━━━━━━━━━━━\u001b[0m\u001b[37m\u001b[0m \u001b[1m63s\u001b[0m 2s/step - accuracy: 0.0952 - loss: 4.1156 - val_accuracy: 0.2873 - val_loss: 3.6531\n",
            "Epoch 3/30\n",
            "\u001b[1m32/32\u001b[0m \u001b[32m━━━━━━━━━━━━━━━━━━━━\u001b[0m\u001b[37m\u001b[0m \u001b[1m41s\u001b[0m 1s/step - accuracy: 0.2560 - loss: 3.4501 - val_accuracy: 0.4422 - val_loss: 2.8696\n",
            "Epoch 4/30\n",
            "\u001b[1m32/32\u001b[0m \u001b[32m━━━━━━━━━━━━━━━━━━━━\u001b[0m\u001b[37m\u001b[0m \u001b[1m43s\u001b[0m 1s/step - accuracy: 0.4239 - loss: 2.6171 - val_accuracy: 0.5735 - val_loss: 2.2393\n",
            "Epoch 5/30\n",
            "\u001b[1m32/32\u001b[0m \u001b[32m━━━━━━━━━━━━━━━━━━━━\u001b[0m\u001b[37m\u001b[0m \u001b[1m42s\u001b[0m 1s/step - accuracy: 0.5463 - loss: 2.0037 - val_accuracy: 0.6284 - val_loss: 1.8391\n",
            "Epoch 6/30\n",
            "\u001b[1m32/32\u001b[0m \u001b[32m━━━━━━━━━━━━━━━━━━━━\u001b[0m\u001b[37m\u001b[0m \u001b[1m41s\u001b[0m 1s/step - accuracy: 0.6378 - loss: 1.5510 - val_accuracy: 0.6775 - val_loss: 1.5535\n",
            "Epoch 7/30\n",
            "\u001b[1m32/32\u001b[0m \u001b[32m━━━━━━━━━━━━━━━━━━━━\u001b[0m\u001b[37m\u001b[0m \u001b[1m42s\u001b[0m 1s/step - accuracy: 0.7075 - loss: 1.1859 - val_accuracy: 0.6941 - val_loss: 1.4080\n",
            "Epoch 8/30\n",
            "\u001b[1m32/32\u001b[0m \u001b[32m━━━━━━━━━━━━━━━━━━━━\u001b[0m\u001b[37m\u001b[0m \u001b[1m63s\u001b[0m 2s/step - accuracy: 0.7569 - loss: 0.9975 - val_accuracy: 0.7176 - val_loss: 1.2607\n",
            "Epoch 9/30\n",
            "\u001b[1m32/32\u001b[0m \u001b[32m━━━━━━━━━━━━━━━━━━━━\u001b[0m\u001b[37m\u001b[0m \u001b[1m42s\u001b[0m 1s/step - accuracy: 0.7950 - loss: 0.8748 - val_accuracy: 0.7402 - val_loss: 1.1780\n",
            "Epoch 10/30\n",
            "\u001b[1m32/32\u001b[0m \u001b[32m━━━━━━━━━━━━━━━━━━━━\u001b[0m\u001b[37m\u001b[0m \u001b[1m61s\u001b[0m 2s/step - accuracy: 0.8213 - loss: 0.6948 - val_accuracy: 0.7480 - val_loss: 1.1190\n",
            "Epoch 11/30\n",
            "\u001b[1m32/32\u001b[0m \u001b[32m━━━━━━━━━━━━━━━━━━━━\u001b[0m\u001b[37m\u001b[0m \u001b[1m42s\u001b[0m 1s/step - accuracy: 0.8649 - loss: 0.5655 - val_accuracy: 0.7588 - val_loss: 1.0595\n",
            "Epoch 12/30\n",
            "\u001b[1m32/32\u001b[0m \u001b[32m━━━━━━━━━━━━━━━━━━━━\u001b[0m\u001b[37m\u001b[0m \u001b[1m41s\u001b[0m 1s/step - accuracy: 0.8965 - loss: 0.4931 - val_accuracy: 0.7618 - val_loss: 1.0350\n",
            "Epoch 13/30\n",
            "\u001b[1m32/32\u001b[0m \u001b[32m━━━━━━━━━━━━━━━━━━━━\u001b[0m\u001b[37m\u001b[0m \u001b[1m83s\u001b[0m 1s/step - accuracy: 0.8966 - loss: 0.4292 - val_accuracy: 0.7549 - val_loss: 1.0115\n",
            "Epoch 14/30\n",
            "\u001b[1m32/32\u001b[0m \u001b[32m━━━━━━━━━━━━━━━━━━━━\u001b[0m\u001b[37m\u001b[0m \u001b[1m42s\u001b[0m 1s/step - accuracy: 0.9266 - loss: 0.3600 - val_accuracy: 0.7627 - val_loss: 0.9554\n",
            "Epoch 15/30\n",
            "\u001b[1m32/32\u001b[0m \u001b[32m━━━━━━━━━━━━━━━━━━━━\u001b[0m\u001b[37m\u001b[0m \u001b[1m41s\u001b[0m 1s/step - accuracy: 0.9275 - loss: 0.3245 - val_accuracy: 0.7725 - val_loss: 0.9547\n",
            "Epoch 16/30\n",
            "\u001b[1m32/32\u001b[0m \u001b[32m━━━━━━━━━━━━━━━━━━━━\u001b[0m\u001b[37m\u001b[0m \u001b[1m82s\u001b[0m 1s/step - accuracy: 0.9416 - loss: 0.2994 - val_accuracy: 0.7608 - val_loss: 0.9328\n",
            "Epoch 17/30\n",
            "\u001b[1m32/32\u001b[0m \u001b[32m━━━━━━━━━━━━━━━━━━━━\u001b[0m\u001b[37m\u001b[0m \u001b[1m61s\u001b[0m 2s/step - accuracy: 0.9410 - loss: 0.2941 - val_accuracy: 0.7706 - val_loss: 0.9229\n",
            "Epoch 18/30\n",
            "\u001b[1m32/32\u001b[0m \u001b[32m━━━━━━━━━━━━━━━━━━━━\u001b[0m\u001b[37m\u001b[0m \u001b[1m61s\u001b[0m 2s/step - accuracy: 0.9492 - loss: 0.2537 - val_accuracy: 0.7735 - val_loss: 0.8998\n",
            "Epoch 19/30\n",
            "\u001b[1m32/32\u001b[0m \u001b[32m━━━━━━━━━━━━━━━━━━━━\u001b[0m\u001b[37m\u001b[0m \u001b[1m41s\u001b[0m 1s/step - accuracy: 0.9536 - loss: 0.2365 - val_accuracy: 0.7647 - val_loss: 0.8928\n",
            "Epoch 20/30\n",
            "\u001b[1m32/32\u001b[0m \u001b[32m━━━━━━━━━━━━━━━━━━━━\u001b[0m\u001b[37m\u001b[0m \u001b[1m82s\u001b[0m 1s/step - accuracy: 0.9607 - loss: 0.2132 - val_accuracy: 0.7735 - val_loss: 0.8784\n",
            "Epoch 21/30\n",
            "\u001b[1m32/32\u001b[0m \u001b[32m━━━━━━━━━━━━━━━━━━━━\u001b[0m\u001b[37m\u001b[0m \u001b[1m42s\u001b[0m 1s/step - accuracy: 0.9638 - loss: 0.1880 - val_accuracy: 0.7804 - val_loss: 0.8635\n",
            "Epoch 22/30\n",
            "\u001b[1m32/32\u001b[0m \u001b[32m━━━━━━━━━━━━━━━━━━━━\u001b[0m\u001b[37m\u001b[0m \u001b[1m61s\u001b[0m 2s/step - accuracy: 0.9535 - loss: 0.2156 - val_accuracy: 0.7745 - val_loss: 0.8727\n",
            "Epoch 23/30\n",
            "\u001b[1m32/32\u001b[0m \u001b[32m━━━━━━━━━━━━━━━━━━━━\u001b[0m\u001b[37m\u001b[0m \u001b[1m42s\u001b[0m 1s/step - accuracy: 0.9640 - loss: 0.1823 - val_accuracy: 0.7755 - val_loss: 0.8544\n",
            "Epoch 24/30\n",
            "\u001b[1m32/32\u001b[0m \u001b[32m━━━━━━━━━━━━━━━━━━━━\u001b[0m\u001b[37m\u001b[0m \u001b[1m83s\u001b[0m 1s/step - accuracy: 0.9762 - loss: 0.1271 - val_accuracy: 0.7902 - val_loss: 0.8483\n",
            "Epoch 25/30\n",
            "\u001b[1m32/32\u001b[0m \u001b[32m━━━━━━━━━━━━━━━━━━━━\u001b[0m\u001b[37m\u001b[0m \u001b[1m42s\u001b[0m 1s/step - accuracy: 0.9781 - loss: 0.1169 - val_accuracy: 0.7843 - val_loss: 0.8355\n",
            "Epoch 26/30\n",
            "\u001b[1m32/32\u001b[0m \u001b[32m━━━━━━━━━━━━━━━━━━━━\u001b[0m\u001b[37m\u001b[0m \u001b[1m41s\u001b[0m 1s/step - accuracy: 0.9733 - loss: 0.1374 - val_accuracy: 0.7775 - val_loss: 0.8415\n",
            "Epoch 27/30\n",
            "\u001b[1m32/32\u001b[0m \u001b[32m━━━━━━━━━━━━━━━━━━━━\u001b[0m\u001b[37m\u001b[0m \u001b[1m41s\u001b[0m 1s/step - accuracy: 0.9771 - loss: 0.1255 - val_accuracy: 0.7873 - val_loss: 0.8522\n",
            "Epoch 28/30\n",
            "\u001b[1m32/32\u001b[0m \u001b[32m━━━━━━━━━━━━━━━━━━━━\u001b[0m\u001b[37m\u001b[0m \u001b[1m41s\u001b[0m 1s/step - accuracy: 0.9798 - loss: 0.1088 - val_accuracy: 0.7902 - val_loss: 0.8295\n",
            "Epoch 29/30\n",
            "\u001b[1m32/32\u001b[0m \u001b[32m━━━━━━━━━━━━━━━━━━━━\u001b[0m\u001b[37m\u001b[0m \u001b[1m42s\u001b[0m 1s/step - accuracy: 0.9791 - loss: 0.1174 - val_accuracy: 0.7843 - val_loss: 0.8310\n",
            "Epoch 30/30\n",
            "\u001b[1m32/32\u001b[0m \u001b[32m━━━━━━━━━━━━━━━━━━━━\u001b[0m\u001b[37m\u001b[0m \u001b[1m42s\u001b[0m 1s/step - accuracy: 0.9732 - loss: 0.1143 - val_accuracy: 0.7745 - val_loss: 0.8240\n"
          ]
        }
      ],
      "source": [
        "# Training Model\n",
        "history = model.fit(\n",
        "    train_data,\n",
        "    validation_data=val_data,\n",
        "    epochs=30\n",
        ")"
      ]
    },
    {
      "cell_type": "markdown",
      "source": [
        "Pada cell ini dilakukan proses pelatihan (training) model dengan menggunakan data yang sudah diproses sebelumnya.\n",
        "Tahapan ini adalah inti dari pembelajaran mesin, di mana model mempelajari pola dari data bunga untuk melakukan klasifikasi dengan benar.\n",
        "- train_data\n",
        "Merupakan kumpulan data gambar dan label yang digunakan untuk melatih model.\n",
        "Di sini model belajar mengenali fitur-fitur penting pada gambar bunga, seperti bentuk kelopak, warna, dan pola.\n",
        "\n",
        "- validation_data=val_data\n",
        "Dataset validasi digunakan untuk mengevaluasi performa model di setiap epoch tanpa memengaruhi proses pelatihan.\n",
        "Tujuannya agar kita bisa melihat apakah model mengalami overfitting (terlalu hafal data training) atau tidak.\n",
        "\n",
        "- epochs=30\n",
        "Menentukan berapa kali seluruh dataset training akan dilalui oleh model selama proses pembelajaran.\n",
        "Semakin besar jumlah epoch, semakin lama proses pelatihan, namun model berpotensi mencapai akurasi yang lebih tinggi — asalkan tidak overfitting."
      ],
      "metadata": {
        "id": "kEHDIAko3iw9"
      },
      "id": "kEHDIAko3iw9"
    },
    {
      "cell_type": "code",
      "execution_count": 37,
      "id": "90e4511c-f59b-4156-aa71-fa68bdd3d809",
      "metadata": {
        "colab": {
          "base_uri": "https://localhost:8080/"
        },
        "id": "90e4511c-f59b-4156-aa71-fa68bdd3d809",
        "outputId": "24c620f6-0845-4716-e5db-1ab2c48cde29"
      },
      "outputs": [
        {
          "output_type": "stream",
          "name": "stdout",
          "text": [
            "\n",
            "Final Training Accuracy: 98.04%\n",
            "Final Validation Accuracy: 77.45%\n"
          ]
        }
      ],
      "source": [
        "# Evaluasi Model\n",
        "final_train_acc = history.history['accuracy'][-1]\n",
        "final_val_acc = history.history['val_accuracy'][-1]\n",
        "\n",
        "print(f\"\\nFinal Training Accuracy: {final_train_acc*100:.2f}%\")\n",
        "print(f\"Final Validation Accuracy: {final_val_acc*100:.2f}%\")"
      ]
    },
    {
      "cell_type": "markdown",
      "source": [
        "Pada cell ini dilakukan evaluasi akhir terhadap model untuk mengetahui performa hasil pelatihan.\n",
        "Tujuannya adalah melihat seberapa baik model mampu mengenali gambar bunga pada data pelatihan dan data validasi.\n",
        "\n",
        "- history.history['accuracy']\n",
        "Menyimpan seluruh nilai akurasi pelatihan dari setiap epoch yang dihasilkan selama proses training.\n",
        "\n",
        "- history.history['val_accuracy']\n",
        "Menyimpan seluruh nilai akurasi validasi dari setiap epoch.\n",
        "\n",
        "- [-1]\n",
        "Digunakan untuk mengambil nilai terakhir (epoch terakhir) dari daftar akurasi tersebut, karena biasanya nilai terakhir mencerminkan hasil akhir model setelah semua pelatihan selesai.\n",
        "\n",
        "- print(f\"\\nFinal Training Accuracy:{final_train_acc*100:.2f}%\")\n",
        "Menampilkan hasil akhir akurasi pelatihan dalam format persentase dengan dua angka desimal.\n",
        "\n",
        "- print(f\"Final Validation Accuracy: {final_val_acc*100:.2f}%\")\n",
        "Menampilkan hasil akhir akurasi validasi untuk mengevaluasi seberapa baik model bekerja pada data yang belum pernah dilihat sebelumnya."
      ],
      "metadata": {
        "id": "ZKKu7GRS35X3"
      },
      "id": "ZKKu7GRS35X3"
    },
    {
      "cell_type": "code",
      "execution_count": 38,
      "id": "bf3de36a-6c2d-4423-aa3d-28373a30babe",
      "metadata": {
        "colab": {
          "base_uri": "https://localhost:8080/",
          "height": 344
        },
        "id": "bf3de36a-6c2d-4423-aa3d-28373a30babe",
        "outputId": "0e29019e-76bd-41ff-b2ac-c2a9fe77c327"
      },
      "outputs": [
        {
          "output_type": "display_data",
          "data": {
            "text/plain": [
              "<Figure size 1000x400 with 2 Axes>"
            ],
            "image/png": "[encoded data removed]"
          },
          "metadata": {}
        }
      ],
      "source": [
        "# Visualisasi Plot Perbandingan Akurasi & Loss\n",
        "plt.figure(figsize=(10,4))\n",
        "plt.subplot(1,2,1)\n",
        "plt.plot(history.history['accuracy'], label='Training Accuracy')\n",
        "plt.plot(history.history['val_accuracy'], label='Validation Accuracy')\n",
        "plt.title('Perbandingan Akurasi Training dan Akurasi Validation ')\n",
        "plt.legend()\n",
        "\n",
        "plt.subplot(1,2,2)\n",
        "plt.plot(history.history['loss'], label='Training Loss')\n",
        "plt.plot(history.history['val_loss'], label='Validation Loss')\n",
        "plt.title('Perbandingan Loss Training dan Validation Loss')\n",
        "plt.legend()\n",
        "plt.show()"
      ]
    },
    {
      "cell_type": "markdown",
      "source": [
        "Pada cell ini dilakukan visualisasi hasil pelatihan model dalam bentuk grafik untuk membandingkan performa model selama proses training dan validasi."
      ],
      "metadata": {
        "id": "hIKHVV3i4SeW"
      },
      "id": "hIKHVV3i4SeW"
    },
    {
      "cell_type": "markdown",
      "source": [
        "### Kesimpulan Keseluruhan\n",
        "\n",
        "# Tahapan\n",
        "1. **Import Library & Load Dataset**  \n",
        "   Menggunakan `tensorflow` dan `tensorflow_datasets` untuk memuat dataset *Oxford Flowers 102* secara otomatis tanpa proses manual.  \n",
        "   Dataset ini memiliki **102 kelas bunga** dengan ribuan gambar beragam ukuran dan warna.\n",
        "\n",
        "2. **Preprocessing Data**  \n",
        "   Semua gambar di-*resize* menjadi **160×160 piksel** dan dinormalisasi ke rentang nilai 0–1.  \n",
        "   Data juga dibagi menjadi **train**, **validation**, dan **test set**, serta di-*batching* untuk efisiensi.\n",
        "\n",
        "3. **Feature Extraction (MobileNetV2)**  \n",
        "   Model **MobileNetV2** digunakan sebagai *feature extractor* yang sudah dilatih pada dataset ImageNet.  \n",
        "   Layer dasarnya dibekukan (*frozen*) agar bobot pretrained tidak berubah, mempercepat proses pelatihan.\n",
        "\n",
        "4. **Membangun Model Sequential**  \n",
        "   Model disusun dengan layer:\n",
        "   - `GlobalAveragePooling2D`  \n",
        "   - `Dropout(0.3)`  \n",
        "   - `Dense(256, activation='relu')`  \n",
        "   - `Dropout(0.3)`  \n",
        "   - `Dense(102, activation='softmax')`  \n",
        "   Kombinasi ini sederhana namun efektif untuk klasifikasi multi-kelas.\n",
        "\n",
        "5. **Kompilasi dan Pelatihan Model**  \n",
        "   Model dikompilasi menggunakan **Adam optimizer (lr=0.0005)** dan fungsi loss **Sparse Categorical Crossentropy**.  \n",
        "   Dilatih selama **30 epoch**, model mencapai akurasi di atas **70%** pada data training dan validasi.\n",
        "\n",
        "6. **Evaluasi dan Visualisasi**  \n",
        "   Hasil akurasi dan loss divisualisasikan menggunakan `matplotlib`.  \n",
        "   Grafik menunjukkan peningkatan akurasi dan penurunan loss yang stabil — indikasi bahwa model belajar dengan baik tanpa *overfitting* yang parah.\n",
        "\n",
        "\n",
        "### Hasil Akhir\n",
        "- **Final Training Accuracy:** 98.04%\n",
        "- **Final Validation Accuracy:** 77.45%\n",
        "\n",
        "Visualisasi juga memperlihatkan pola pelatihan yang sehat:  \n",
        "akurasi meningkat konsisten, loss menurun, dan *gap* antara train–validation tidak terlalu besar.\n",
        "\n",
        "### Kesimpulan Akhir\n",
        "Model CNN sederhana berbasis **MobileNetV2 + Dense Layer** terbukti efektif dalam mengenali berbagai jenis bunga pada dataset *Oxford Flowers 102*.  \n",
        "Dengan preprocessing yang tepat dan penerapan *transfer learning*, kita dapat mencapai akurasi tinggi tanpa membutuhkan model yang kompleks atau waktu pelatihan yang lama.\n"
      ],
      "metadata": {
        "id": "rUiMoYQa5Cyg"
      },
      "id": "rUiMoYQa5Cyg"
    }
  ],
  "metadata": {
    "kernelspec": {
      "display_name": "Vashih076",
      "language": "python",
      "name": "venv_posttest3_2309106076_b2-23"
    },
    "language_info": {
      "codemirror_mode": {
        "name": "ipython",
        "version": 3
      },
      "file_extension": ".py",
      "mimetype": "text/x-python",
      "name": "python",
      "nbconvert_exporter": "python",
      "pygments_lexer": "ipython3",
      "version": "3.14.0"
    },
    "colab": {
      "provenance": []
    }
  },
  "nbformat": 4,
  "nbformat_minor": 5
}